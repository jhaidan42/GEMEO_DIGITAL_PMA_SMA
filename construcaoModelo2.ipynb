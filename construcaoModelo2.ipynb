{
 "cells": [
  {
   "cell_type": "code",
   "execution_count": 1,
   "metadata": {},
   "outputs": [],
   "source": [
    "import pandas as pd\n",
    "import numpy as np\n",
    "from sklearn.model_selection import train_test_split\n",
    "from sklearn.linear_model import LinearRegression\n",
    "from sklearn.metrics import mean_squared_error\n",
    "from datetime import datetime, timedelta\n",
    "import joblib"
   ]
  },
  {
   "cell_type": "markdown",
   "metadata": {},
   "source": [
    "## Tratamento dos Dados Entrada:"
   ]
  },
  {
   "cell_type": "code",
   "execution_count": 2,
   "metadata": {},
   "outputs": [],
   "source": [
    "df_entrada = pd.read_csv('dados_entrada.csv', delimiter=',')\n",
    "df_entrada['DateTime'] = pd.to_datetime(df_entrada['data_abreviada'], format='%Y-%m-%d')\n",
    "df_entrada = df_entrada.rename(columns={'Disponibilidade': 'disponibilidade_entrada'})\n",
    "df_entrada.drop(columns=['data_abreviada'], inplace=True)"
   ]
  },
  {
   "cell_type": "markdown",
   "metadata": {},
   "source": [
    "## Tratamento dos Dados Transporte"
   ]
  },
  {
   "cell_type": "code",
   "execution_count": 3,
   "metadata": {},
   "outputs": [],
   "source": [
    "df_transporte = pd.read_csv('dados_transporte.csv', delimiter=',')\n",
    "df_transporte['DateTime'] = pd.to_datetime(df_transporte['data_abreviada'], format='%Y-%m-%d')\n",
    "df_transporte = df_transporte.rename(columns={'Disponibilidade': 'disponibilidade_transporte'})\n",
    "df_transporte.drop(columns=['data_abreviada'], inplace=True)"
   ]
  },
  {
   "cell_type": "markdown",
   "metadata": {},
   "source": [
    "## Tratamento dos Dados Inspeção"
   ]
  },
  {
   "cell_type": "code",
   "execution_count": 4,
   "metadata": {},
   "outputs": [],
   "source": [
    "df_inspecao = pd.read_csv('dados_inspecao.csv', delimiter=',')\n",
    "df_inspecao['DateTime'] = pd.to_datetime(df_inspecao['data_abreviada'], format='%Y-%m-%d')\n",
    "df_inspecao = df_inspecao.rename(columns={'Disponibilidade': 'disponibilidade_inspecao'})\n",
    "df_inspecao.drop(columns=['data_abreviada'], inplace=True)"
   ]
  },
  {
   "cell_type": "markdown",
   "metadata": {},
   "source": [
    "## Tratamento dos Dados Limpeza"
   ]
  },
  {
   "cell_type": "code",
   "execution_count": 5,
   "metadata": {},
   "outputs": [],
   "source": [
    "df_limpeza = pd.read_csv('dados_limpeza.csv', delimiter=',')\n",
    "df_limpeza['DateTime'] = pd.to_datetime(df_limpeza['data_abreviada'], format='%Y-%m-%d')\n",
    "df_limpeza = df_limpeza.rename(columns={'Disponibilidade': 'disponibilidade_limpeza'})\n",
    "df_limpeza.drop(columns=['data_abreviada'], inplace=True)"
   ]
  },
  {
   "cell_type": "markdown",
   "metadata": {},
   "source": [
    "## Tratamento dos Dados Saída"
   ]
  },
  {
   "cell_type": "code",
   "execution_count": 6,
   "metadata": {},
   "outputs": [],
   "source": [
    "df_saida = pd.read_csv('dados_saida.csv', delimiter=',')\n",
    "df_saida['DateTime'] = pd.to_datetime(df_saida['data_abreviada'], format='%Y-%m-%d')\n",
    "df_saida = df_saida.rename(columns={'Disponibilidade': 'disponibilidade_saida'})\n",
    "df_saida.drop(columns=['data_abreviada'], inplace=True)"
   ]
  },
  {
   "cell_type": "markdown",
   "metadata": {},
   "source": [
    "## União dos dados"
   ]
  },
  {
   "cell_type": "code",
   "execution_count": 7,
   "metadata": {},
   "outputs": [],
   "source": [
    "df_taxa_de_saida = pd.read_csv('dados_taxa_de_saida.csv', delimiter=',')\n",
    "df_takt_time = pd.read_csv('dados_takt_time.csv', delimiter=',')"
   ]
  },
  {
   "cell_type": "code",
   "execution_count": 8,
   "metadata": {},
   "outputs": [],
   "source": [
    "df_taxa_de_saida['DateTime'] = pd.to_datetime(df_taxa_de_saida['data_abreviada'], format='%Y-%m-%d')\n",
    "df_takt_time['DateTime'] = pd.to_datetime(df_taxa_de_saida['data_abreviada'], format='%Y-%m-%d')\n",
    "df_taxa_de_saida.drop(columns=['data_abreviada'], inplace=True)\n",
    "df_takt_time.drop(columns=['data_abreviada'], inplace=True)"
   ]
  },
  {
   "cell_type": "code",
   "execution_count": 49,
   "metadata": {},
   "outputs": [],
   "source": [
    "# df_geral = pd.concat([df_entrada, df_transporte, df_inspecao, df_limpeza, df_saida, df_taxa_de_saida, df_takt_time ], axis=1)\n",
    "# df_geral = df_geral.reset_index(drop=True)\n",
    "# df_geral.drop_duplicates(subset='DateTime', keep='first', inplace=True)\n"
   ]
  },
  {
   "cell_type": "code",
   "execution_count": 9,
   "metadata": {},
   "outputs": [],
   "source": [
    "df_geral = pd.merge(df_entrada, df_transporte, on='DateTime', how='outer')\n",
    "df_geral = pd.merge(df_geral, df_inspecao, on='DateTime', how='outer')\n",
    "df_geral = pd.merge(df_geral, df_limpeza, on='DateTime', how='outer')\n",
    "df_geral = pd.merge(df_geral, df_saida, on='DateTime', how='outer')\n",
    "df_geral = pd.merge(df_geral, df_taxa_de_saida, on='DateTime', how='outer')\n",
    "df_geral = pd.merge(df_geral, df_takt_time, on='DateTime', how='outer')"
   ]
  },
  {
   "cell_type": "code",
   "execution_count": 11,
   "metadata": {},
   "outputs": [],
   "source": [
    "df_geral['DateTime'] = pd.to_datetime(df_geral['DateTime'])\n",
    "df_geral['Dia'] = df_geral['DateTime'].dt.day\n",
    "df_geral['DiaDaSemana'] = df_geral['DateTime'].dt.dayofweek\n",
    "df_geral['Mes'] = df_geral['DateTime'].dt.month\n",
    "df_geral['Ano'] = df_geral['DateTime'].dt.year"
   ]
  },
  {
   "cell_type": "code",
   "execution_count": 12,
   "metadata": {},
   "outputs": [
    {
     "data": {
      "text/plain": [
       "Index(['disponibilidade_entrada', 'DateTime', 'disponibilidade_transporte',\n",
       "       'disponibilidade_inspecao', 'disponibilidade_limpeza',\n",
       "       'disponibilidade_saida', 'taxa_de_saida(und/h)', 'takt_time(s/und)',\n",
       "       'Dia', 'DiaDaSemana', 'Mes', 'Ano'],\n",
       "      dtype='object')"
      ]
     },
     "execution_count": 12,
     "metadata": {},
     "output_type": "execute_result"
    }
   ],
   "source": [
    "df_geral.columns"
   ]
  },
  {
   "cell_type": "code",
   "execution_count": 13,
   "metadata": {},
   "outputs": [
    {
     "data": {
      "text/html": [
       "<div>\n",
       "<style scoped>\n",
       "    .dataframe tbody tr th:only-of-type {\n",
       "        vertical-align: middle;\n",
       "    }\n",
       "\n",
       "    .dataframe tbody tr th {\n",
       "        vertical-align: top;\n",
       "    }\n",
       "\n",
       "    .dataframe thead th {\n",
       "        text-align: right;\n",
       "    }\n",
       "</style>\n",
       "<table border=\"1\" class=\"dataframe\">\n",
       "  <thead>\n",
       "    <tr style=\"text-align: right;\">\n",
       "      <th></th>\n",
       "      <th>disponibilidade_entrada</th>\n",
       "      <th>DateTime</th>\n",
       "      <th>disponibilidade_transporte</th>\n",
       "      <th>disponibilidade_inspecao</th>\n",
       "      <th>disponibilidade_limpeza</th>\n",
       "      <th>disponibilidade_saida</th>\n",
       "      <th>taxa_de_saida(und/h)</th>\n",
       "      <th>takt_time(s/und)</th>\n",
       "      <th>Dia</th>\n",
       "      <th>DiaDaSemana</th>\n",
       "      <th>Mes</th>\n",
       "      <th>Ano</th>\n",
       "    </tr>\n",
       "  </thead>\n",
       "  <tbody>\n",
       "    <tr>\n",
       "      <th>0</th>\n",
       "      <td>0.997916</td>\n",
       "      <td>2022-01-17</td>\n",
       "      <td>0.994998</td>\n",
       "      <td>0.996248</td>\n",
       "      <td>1.000000</td>\n",
       "      <td>0.996665</td>\n",
       "      <td>13.556485</td>\n",
       "      <td>203.305085</td>\n",
       "      <td>17</td>\n",
       "      <td>0</td>\n",
       "      <td>1</td>\n",
       "      <td>2022</td>\n",
       "    </tr>\n",
       "    <tr>\n",
       "      <th>1</th>\n",
       "      <td>0.986105</td>\n",
       "      <td>2022-01-18</td>\n",
       "      <td>0.989810</td>\n",
       "      <td>0.993979</td>\n",
       "      <td>0.998610</td>\n",
       "      <td>0.990736</td>\n",
       "      <td>13.228346</td>\n",
       "      <td>202.406250</td>\n",
       "      <td>18</td>\n",
       "      <td>1</td>\n",
       "      <td>1</td>\n",
       "      <td>2022</td>\n",
       "    </tr>\n",
       "    <tr>\n",
       "      <th>2</th>\n",
       "      <td>0.995368</td>\n",
       "      <td>2022-01-19</td>\n",
       "      <td>0.999537</td>\n",
       "      <td>1.000000</td>\n",
       "      <td>0.994905</td>\n",
       "      <td>1.000000</td>\n",
       "      <td>13.351878</td>\n",
       "      <td>197.469512</td>\n",
       "      <td>19</td>\n",
       "      <td>2</td>\n",
       "      <td>1</td>\n",
       "      <td>2022</td>\n",
       "    </tr>\n",
       "    <tr>\n",
       "      <th>3</th>\n",
       "      <td>0.989810</td>\n",
       "      <td>2022-01-20</td>\n",
       "      <td>0.972209</td>\n",
       "      <td>1.000000</td>\n",
       "      <td>1.000000</td>\n",
       "      <td>1.000000</td>\n",
       "      <td>13.339509</td>\n",
       "      <td>182.966102</td>\n",
       "      <td>20</td>\n",
       "      <td>3</td>\n",
       "      <td>1</td>\n",
       "      <td>2022</td>\n",
       "    </tr>\n",
       "    <tr>\n",
       "      <th>4</th>\n",
       "      <td>0.993979</td>\n",
       "      <td>2022-01-21</td>\n",
       "      <td>0.993516</td>\n",
       "      <td>1.000000</td>\n",
       "      <td>0.985178</td>\n",
       "      <td>0.996758</td>\n",
       "      <td>13.228346</td>\n",
       "      <td>188.284884</td>\n",
       "      <td>21</td>\n",
       "      <td>4</td>\n",
       "      <td>1</td>\n",
       "      <td>2022</td>\n",
       "    </tr>\n",
       "    <tr>\n",
       "      <th>...</th>\n",
       "      <td>...</td>\n",
       "      <td>...</td>\n",
       "      <td>...</td>\n",
       "      <td>...</td>\n",
       "      <td>...</td>\n",
       "      <td>...</td>\n",
       "      <td>...</td>\n",
       "      <td>...</td>\n",
       "      <td>...</td>\n",
       "      <td>...</td>\n",
       "      <td>...</td>\n",
       "      <td>...</td>\n",
       "    </tr>\n",
       "    <tr>\n",
       "      <th>710</th>\n",
       "      <td>0.995368</td>\n",
       "      <td>2024-04-24</td>\n",
       "      <td>1.000000</td>\n",
       "      <td>0.997684</td>\n",
       "      <td>0.999537</td>\n",
       "      <td>0.998147</td>\n",
       "      <td>13.339509</td>\n",
       "      <td>199.907407</td>\n",
       "      <td>24</td>\n",
       "      <td>2</td>\n",
       "      <td>4</td>\n",
       "      <td>2024</td>\n",
       "    </tr>\n",
       "    <tr>\n",
       "      <th>711</th>\n",
       "      <td>0.993979</td>\n",
       "      <td>2024-04-25</td>\n",
       "      <td>1.000000</td>\n",
       "      <td>1.000000</td>\n",
       "      <td>0.999074</td>\n",
       "      <td>1.000000</td>\n",
       "      <td>13.339509</td>\n",
       "      <td>166.932990</td>\n",
       "      <td>25</td>\n",
       "      <td>3</td>\n",
       "      <td>4</td>\n",
       "      <td>2024</td>\n",
       "    </tr>\n",
       "    <tr>\n",
       "      <th>712</th>\n",
       "      <td>1.000000</td>\n",
       "      <td>2024-04-26</td>\n",
       "      <td>0.994442</td>\n",
       "      <td>1.000000</td>\n",
       "      <td>0.998610</td>\n",
       "      <td>1.000000</td>\n",
       "      <td>13.228346</td>\n",
       "      <td>190.500000</td>\n",
       "      <td>26</td>\n",
       "      <td>4</td>\n",
       "      <td>4</td>\n",
       "      <td>2024</td>\n",
       "    </tr>\n",
       "    <tr>\n",
       "      <th>713</th>\n",
       "      <td>0.000000</td>\n",
       "      <td>2024-04-27</td>\n",
       "      <td>0.000000</td>\n",
       "      <td>0.000000</td>\n",
       "      <td>0.000000</td>\n",
       "      <td>0.000000</td>\n",
       "      <td>0.000000</td>\n",
       "      <td>0.000000</td>\n",
       "      <td>27</td>\n",
       "      <td>5</td>\n",
       "      <td>4</td>\n",
       "      <td>2024</td>\n",
       "    </tr>\n",
       "    <tr>\n",
       "      <th>714</th>\n",
       "      <td>1.000000</td>\n",
       "      <td>2024-04-29</td>\n",
       "      <td>0.892405</td>\n",
       "      <td>1.000000</td>\n",
       "      <td>0.924051</td>\n",
       "      <td>0.835443</td>\n",
       "      <td>16.708861</td>\n",
       "      <td>131.666667</td>\n",
       "      <td>29</td>\n",
       "      <td>0</td>\n",
       "      <td>4</td>\n",
       "      <td>2024</td>\n",
       "    </tr>\n",
       "  </tbody>\n",
       "</table>\n",
       "<p>715 rows × 12 columns</p>\n",
       "</div>"
      ],
      "text/plain": [
       "     disponibilidade_entrada   DateTime  disponibilidade_transporte  \\\n",
       "0                   0.997916 2022-01-17                    0.994998   \n",
       "1                   0.986105 2022-01-18                    0.989810   \n",
       "2                   0.995368 2022-01-19                    0.999537   \n",
       "3                   0.989810 2022-01-20                    0.972209   \n",
       "4                   0.993979 2022-01-21                    0.993516   \n",
       "..                       ...        ...                         ...   \n",
       "710                 0.995368 2024-04-24                    1.000000   \n",
       "711                 0.993979 2024-04-25                    1.000000   \n",
       "712                 1.000000 2024-04-26                    0.994442   \n",
       "713                 0.000000 2024-04-27                    0.000000   \n",
       "714                 1.000000 2024-04-29                    0.892405   \n",
       "\n",
       "     disponibilidade_inspecao  disponibilidade_limpeza  disponibilidade_saida  \\\n",
       "0                    0.996248                 1.000000               0.996665   \n",
       "1                    0.993979                 0.998610               0.990736   \n",
       "2                    1.000000                 0.994905               1.000000   \n",
       "3                    1.000000                 1.000000               1.000000   \n",
       "4                    1.000000                 0.985178               0.996758   \n",
       "..                        ...                      ...                    ...   \n",
       "710                  0.997684                 0.999537               0.998147   \n",
       "711                  1.000000                 0.999074               1.000000   \n",
       "712                  1.000000                 0.998610               1.000000   \n",
       "713                  0.000000                 0.000000               0.000000   \n",
       "714                  1.000000                 0.924051               0.835443   \n",
       "\n",
       "     taxa_de_saida(und/h)  takt_time(s/und)  Dia  DiaDaSemana  Mes   Ano  \n",
       "0               13.556485        203.305085   17            0    1  2022  \n",
       "1               13.228346        202.406250   18            1    1  2022  \n",
       "2               13.351878        197.469512   19            2    1  2022  \n",
       "3               13.339509        182.966102   20            3    1  2022  \n",
       "4               13.228346        188.284884   21            4    1  2022  \n",
       "..                    ...               ...  ...          ...  ...   ...  \n",
       "710             13.339509        199.907407   24            2    4  2024  \n",
       "711             13.339509        166.932990   25            3    4  2024  \n",
       "712             13.228346        190.500000   26            4    4  2024  \n",
       "713              0.000000          0.000000   27            5    4  2024  \n",
       "714             16.708861        131.666667   29            0    4  2024  \n",
       "\n",
       "[715 rows x 12 columns]"
      ]
     },
     "execution_count": 13,
     "metadata": {},
     "output_type": "execute_result"
    }
   ],
   "source": [
    "df_geral"
   ]
  },
  {
   "cell_type": "code",
   "execution_count": 18,
   "metadata": {},
   "outputs": [],
   "source": [
    "df_geral.to_csv('df_geral.csv', index=False)"
   ]
  },
  {
   "cell_type": "markdown",
   "metadata": {},
   "source": [
    "## Criação Regressão Linear"
   ]
  },
  {
   "cell_type": "code",
   "execution_count": 14,
   "metadata": {},
   "outputs": [],
   "source": [
    "weekday_dummies = pd.get_dummies(df_geral['DiaDaSemana'], prefix='DiaDaSemana')\n",
    "month_dummies = pd.get_dummies(df_geral['Mes'], prefix='Mes')\n",
    "df_geral = pd.concat([df_geral, weekday_dummies, month_dummies], axis=1)"
   ]
  },
  {
   "cell_type": "code",
   "execution_count": 15,
   "metadata": {},
   "outputs": [],
   "source": [
    "# Supondo que 'df' contém as características temporais tratadas e 'Value' é a saída desejada\n",
    "X = df_geral[['Dia', 'DiaDaSemana_0','DiaDaSemana_1','DiaDaSemana_2','DiaDaSemana_3', 'DiaDaSemana_4', 'DiaDaSemana_5',\\\n",
    "          'Mes_1', 'Mes_2', 'Mes_3', 'Mes_4', 'Mes_5', 'Mes_6', 'Mes_7', 'Mes_8', 'Mes_9', 'Mes_10', 'Mes_11', 'Mes_12']]\n",
    "y = df_geral['takt_time(s/und)']\n",
    "\n",
    "# Dividir os dados em conjuntos de treinamento e teste\n",
    "X_train, X_test, y_train, y_test = train_test_split(X, y, test_size=0.2, random_state=42)"
   ]
  },
  {
   "cell_type": "code",
   "execution_count": 16,
   "metadata": {},
   "outputs": [
    {
     "data": {
      "text/plain": [
       "['modGerenciadorTakt.pkl']"
      ]
     },
     "execution_count": 16,
     "metadata": {},
     "output_type": "execute_result"
    }
   ],
   "source": [
    "modGerenciadorTakt = LinearRegression()\n",
    "modGerenciadorTakt.fit(X_train, y_train)\n",
    "# Salvar o modelo treinado em um arquivo\n",
    "joblib.dump(modGerenciadorTakt, 'modGerenciadorTakt.pkl')"
   ]
  },
  {
   "cell_type": "code",
   "execution_count": 19,
   "metadata": {},
   "outputs": [
    {
     "name": "stdout",
     "output_type": "stream",
     "text": [
      "A raiz quadrada da média do quadrado dos erros do modelo de Regressão Linear é: 11.993234930508564\n"
     ]
    }
   ],
   "source": [
    "y_pred = modGerenciadorTakt.predict(X_test)\n",
    "rmse_takt = np.sqrt(mean_squared_error(y_test, y_pred))\n",
    "print(\"A raiz quadrada da média do quadrado dos erros do modelo de Regressão Linear é:\", rmse_takt)"
   ]
  },
  {
   "cell_type": "code",
   "execution_count": 88,
   "metadata": {},
   "outputs": [],
   "source": [
    "# Supondo que 'df' contém as características temporais tratadas e 'Value' é a saída desejada\n",
    "X2 = df_geral[['Dia', 'DiaDaSemana_0','DiaDaSemana_1','DiaDaSemana_2','DiaDaSemana_3', 'DiaDaSemana_4', 'DiaDaSemana_5',\\\n",
    "          'Mes_1', 'Mes_2', 'Mes_3', 'Mes_4', 'Mes_5', 'Mes_6', 'Mes_7', 'Mes_8', 'Mes_9', 'Mes_10', 'Mes_11', 'Mes_12', 'Ano',\\\n",
    "          'disponibilidade_entrada', 'disponibilidade_transporte', 'disponibilidade_inspecao', 'disponibilidade_limpeza', 'disponibilidade_saida']]\n",
    "y2 = df_geral['taxa_de_saida(und/h)']\n",
    "\n",
    "# Dividir os dados em conjuntos de treinamento e teste\n",
    "X_train2, X_test2, y_train2, y_test2 = train_test_split(X2, y2, test_size=0.2, random_state=42)"
   ]
  },
  {
   "cell_type": "code",
   "execution_count": 89,
   "metadata": {},
   "outputs": [
    {
     "data": {
      "text/plain": [
       "['modGerenciadorTaxaSaida.pkl']"
      ]
     },
     "execution_count": 89,
     "metadata": {},
     "output_type": "execute_result"
    }
   ],
   "source": [
    "modGerenciadorTaxaSaida = LinearRegression()\n",
    "modGerenciadorTaxaSaida.fit(X_train2, y_train2)\n",
    "# Salvar o modelo treinado em um arquivo\n",
    "joblib.dump(modGerenciadorTaxaSaida, 'modGerenciadorTaxaSaida.pkl')"
   ]
  },
  {
   "cell_type": "code",
   "execution_count": 90,
   "metadata": {},
   "outputs": [
    {
     "name": "stdout",
     "output_type": "stream",
     "text": [
      "A raiz quadrada da média do quadrado dos erros do modelo de Regressão Linear é: 0.12502189208244716\n"
     ]
    }
   ],
   "source": [
    "y_pred2 = modGerenciadorTaxaSaida.predict(X_test2)\n",
    "rmse_tsaida = np.sqrt(mean_squared_error(y_test2, y_pred2))\n",
    "print(\"A raiz quadrada da média do quadrado dos erros do modelo de Regressão Linear é:\", rmse_tsaida)"
   ]
  }
 ],
 "metadata": {
  "kernelspec": {
   "display_name": "Python 3",
   "language": "python",
   "name": "python3"
  },
  "language_info": {
   "codemirror_mode": {
    "name": "ipython",
    "version": 3
   },
   "file_extension": ".py",
   "mimetype": "text/x-python",
   "name": "python",
   "nbconvert_exporter": "python",
   "pygments_lexer": "ipython3",
   "version": "3.12.1"
  }
 },
 "nbformat": 4,
 "nbformat_minor": 2
}
