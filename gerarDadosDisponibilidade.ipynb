{
 "cells": [
  {
   "cell_type": "code",
   "execution_count": 11,
   "metadata": {},
   "outputs": [],
   "source": [
    "import pandas as pd\n",
    "import numpy as np\n",
    "import random\n",
    "import datetime"
   ]
  },
  {
   "cell_type": "code",
   "execution_count": 12,
   "metadata": {},
   "outputs": [],
   "source": [
    "def gerar_dados(tempo_seg):\n",
    "    dados = {\n",
    "        'Data': [],\n",
    "        'Falha': [],\n",
    "        'Status_Estacao': [],\n",
    "        'Consertado': []\n",
    "    }\n",
    "    data = datetime.datetime(2022, 1, 16, 8, 0, 0) # Ano, mês, dia, hora, minuto, segundo\n",
    "    status_maquina = 1  # Começa disponível\n",
    "    Consertado = 0  # Começa sem pedido finalizado\n",
    "    aux = 0\n",
    "    aux_falha = 0\n",
    "    for seg in range(1, tempo_seg + 1):\n",
    "        \n",
    "        Consertado = 0\n",
    "        falha = 0\n",
    "        \n",
    "        #Limita a dia de semana\n",
    "        if data.weekday() >= 5:\n",
    "            tempoVoltar = 7 - data.weekday()\n",
    "            data += datetime.timedelta(days=tempoVoltar)\n",
    "\n",
    "        #Limita ao horario de 8 as 12 13 as 17\n",
    "        if data.hour >= 12 and data.hour <= 13:\n",
    "            data += datetime.timedelta(hours=1)\n",
    "        if data.hour > 17:\n",
    "            data += datetime.timedelta(hours=15)\n",
    "\n",
    "        #Limitações logicas sobre entrar em falha e conserto\n",
    "        if status_maquina == 1:\n",
    "            aux_falha = random.randint(0,9)\n",
    "            if aux_falha == 0:\n",
    "                falha = 1\n",
    "                status_maquina = 0\n",
    "        elif status_maquina == 0:\n",
    "            aux = random.randint(0,9)\n",
    "            if aux == 0:\n",
    "                Consertado = 1\n",
    "                status_maquina = 1\n",
    "\n",
    "        # Adiciona os dados para a linha atual no df\n",
    "        dados['Data'].append(data)\n",
    "        dados['Falha'].append(falha)\n",
    "        dados['Status_Estacao'].append(status_maquina)\n",
    "        dados['Consertado'].append(Consertado)\n",
    "        data += datetime.timedelta(seconds=15)\n",
    "\n",
    "    return pd.DataFrame(dados)"
   ]
  },
  {
   "cell_type": "code",
   "execution_count": 22,
   "metadata": {},
   "outputs": [],
   "source": [
    "qtdGerada = 1000000  # Quantidade de dados a gerar por linha, intervalo entre linhas é 15 segundos."
   ]
  },
  {
   "cell_type": "markdown",
   "metadata": {},
   "source": [
    "# Estação de Saída"
   ]
  },
  {
   "cell_type": "code",
   "execution_count": 13,
   "metadata": {},
   "outputs": [],
   "source": [
    "dados_saída = gerar_dados(qtdGerada)"
   ]
  },
  {
   "cell_type": "code",
   "execution_count": 14,
   "metadata": {},
   "outputs": [],
   "source": [
    "df_saida = dados_saída.loc[:, ['Data', 'Status_Estacao']]"
   ]
  },
  {
   "cell_type": "code",
   "execution_count": 15,
   "metadata": {},
   "outputs": [],
   "source": [
    "df_saida[\"data_abreviada\"] = df_saida['Data'].dt.strftime('%Y-%m-%d')\n",
    "df_saida[\"data_abreviada\"] =  pd.to_datetime(df_saida[\"data_abreviada\"])"
   ]
  },
  {
   "cell_type": "code",
   "execution_count": 16,
   "metadata": {},
   "outputs": [],
   "source": [
    "df_saida['Disponibilidade'] = ''\n",
    "anos = df_saida['data_abreviada'].dt.year.unique()\n",
    "meses = df_saida['data_abreviada'].dt.month.unique()\n",
    "dias = df_entrada['data_abreviada'].dt.day.unique()\n",
    "for ano in anos: \n",
    "    for mes in meses:\n",
    "        for dia in dias:\n",
    "            df_aux = df_entrada[(df_saida['Data'].dt.year == ano) & (df_saida['Data'].dt.month == mes) & (df_saida['Data'].dt.day == dia)]\n",
    "            try:\n",
    "                df_saida.loc[(df_saida['Data'].dt.year == ano) & (df_saida['Data'].dt.month == mes) \\\n",
    "                            & (df_saida['Data'].dt.day == dia), \"Disponibilidade\"] = \\\n",
    "                                (df_aux.loc[df_aux['Status_Estacao'] == 1, 'Data'].max() - \\\n",
    "                                df_aux.loc[df_aux['Status_Estacao'] == 1,'Data'].min())/(df_aux.loc[:,'Data'].max() - \\\n",
    "                                                                                        df_aux.loc[:, 'Data'].min())\n",
    "            except ZeroDivisionError:\n",
    "                df_saida.loc[(df_saida['Data'].dt.year == ano) & (df_saida['Data'].dt.month == mes) \\\n",
    "                            & (df_saida['Data'].dt.day == dia), \"Disponibilidade\"] = 0"
   ]
  },
  {
   "cell_type": "code",
   "execution_count": 17,
   "metadata": {},
   "outputs": [
    {
     "name": "stderr",
     "output_type": "stream",
     "text": [
      "C:\\Users\\jhaid\\AppData\\Local\\Temp\\ipykernel_18604\\3263956128.py:1: FutureWarning: Downcasting object dtype arrays on .fillna, .ffill, .bfill is deprecated and will change in a future version. Call result.infer_objects(copy=False) instead. To opt-in to the future behavior, set `pd.set_option('future.no_silent_downcasting', True)`\n",
      "  df_saida['Disponibilidade'] = df_saida['Disponibilidade'].fillna(0)\n"
     ]
    }
   ],
   "source": [
    "df_saida['Disponibilidade'] = df_saida['Disponibilidade'].fillna(0)"
   ]
  },
  {
   "cell_type": "code",
   "execution_count": 18,
   "metadata": {},
   "outputs": [],
   "source": [
    "df_saida = df_saida.groupby(['data_abreviada']).agg({'Disponibilidade': 'mean'})"
   ]
  },
  {
   "cell_type": "code",
   "execution_count": 19,
   "metadata": {},
   "outputs": [],
   "source": [
    "df_saida = df_saida.reset_index()"
   ]
  },
  {
   "cell_type": "code",
   "execution_count": 1,
   "metadata": {},
   "outputs": [
    {
     "ename": "NameError",
     "evalue": "name 'df_saida' is not defined",
     "output_type": "error",
     "traceback": [
      "\u001b[1;31m---------------------------------------------------------------------------\u001b[0m",
      "\u001b[1;31mNameError\u001b[0m                                 Traceback (most recent call last)",
      "Cell \u001b[1;32mIn[1], line 1\u001b[0m\n\u001b[1;32m----> 1\u001b[0m \u001b[43mdf_saida\u001b[49m\n",
      "\u001b[1;31mNameError\u001b[0m: name 'df_saida' is not defined"
     ]
    }
   ],
   "source": [
    "df_saida"
   ]
  },
  {
   "cell_type": "code",
   "execution_count": 21,
   "metadata": {},
   "outputs": [],
   "source": [
    "df_saida.to_csv('dados_saida.csv', index=False)"
   ]
  },
  {
   "cell_type": "markdown",
   "metadata": {},
   "source": [
    "# Estação de Entrada"
   ]
  },
  {
   "cell_type": "code",
   "execution_count": 23,
   "metadata": {},
   "outputs": [],
   "source": [
    "dados_entrada = gerar_dados(qtdGerada)\n",
    "df_entrada = dados_entrada.loc[:, ['Data', 'Status_Estacao']]\n",
    "df_entrada[\"data_abreviada\"] = df_entrada['Data'].dt.strftime('%Y-%m-%d')\n",
    "df_entrada[\"data_abreviada\"] =  pd.to_datetime(df_entrada[\"data_abreviada\"])\n",
    "\n",
    "\n",
    "df_entrada['Disponibilidade'] = ''\n",
    "anos = df_entrada['data_abreviada'].dt.year.unique()\n",
    "meses = df_entrada['data_abreviada'].dt.month.unique()\n",
    "dias = df_entrada['data_abreviada'].dt.day.unique()\n",
    "for ano in anos: \n",
    "    for mes in meses:\n",
    "        for dia in dias:\n",
    "            df_aux = df_entrada[(df_entrada['Data'].dt.year == ano) & (df_entrada['Data'].dt.month == mes) & (df_entrada['Data'].dt.day == dia)]\n",
    "            try:\n",
    "                df_entrada.loc[(df_entrada['Data'].dt.year == ano) & (df_entrada['Data'].dt.month == mes) \\\n",
    "                            & (df_entrada['Data'].dt.day == dia), \"Disponibilidade\"] = \\\n",
    "                                (df_aux.loc[df_aux['Status_Estacao'] == 1, 'Data'].max() - \\\n",
    "                                df_aux.loc[df_aux['Status_Estacao'] == 1,'Data'].min())/(df_aux.loc[:,'Data'].max() - \\\n",
    "                                                                                        df_aux.loc[:, 'Data'].min())\n",
    "            except ZeroDivisionError:\n",
    "                df_entrada.loc[(df_entrada['Data'].dt.year == ano) & (df_entrada['Data'].dt.month == mes) \\\n",
    "                            & (df_entrada['Data'].dt.day == dia), \"Disponibilidade\"] = 0"
   ]
  },
  {
   "cell_type": "code",
   "execution_count": 24,
   "metadata": {},
   "outputs": [
    {
     "name": "stderr",
     "output_type": "stream",
     "text": [
      "C:\\Users\\jhaid\\AppData\\Local\\Temp\\ipykernel_18604\\3942035672.py:1: FutureWarning: Downcasting object dtype arrays on .fillna, .ffill, .bfill is deprecated and will change in a future version. Call result.infer_objects(copy=False) instead. To opt-in to the future behavior, set `pd.set_option('future.no_silent_downcasting', True)`\n",
      "  df_entrada['Disponibilidade'] = df_entrada['Disponibilidade'].fillna(0)\n"
     ]
    },
    {
     "data": {
      "text/html": [
       "<div>\n",
       "<style scoped>\n",
       "    .dataframe tbody tr th:only-of-type {\n",
       "        vertical-align: middle;\n",
       "    }\n",
       "\n",
       "    .dataframe tbody tr th {\n",
       "        vertical-align: top;\n",
       "    }\n",
       "\n",
       "    .dataframe thead th {\n",
       "        text-align: right;\n",
       "    }\n",
       "</style>\n",
       "<table border=\"1\" class=\"dataframe\">\n",
       "  <thead>\n",
       "    <tr style=\"text-align: right;\">\n",
       "      <th></th>\n",
       "      <th>data_abreviada</th>\n",
       "      <th>Disponibilidade</th>\n",
       "    </tr>\n",
       "  </thead>\n",
       "  <tbody>\n",
       "    <tr>\n",
       "      <th>0</th>\n",
       "      <td>2022-01-17</td>\n",
       "      <td>0.997916</td>\n",
       "    </tr>\n",
       "    <tr>\n",
       "      <th>1</th>\n",
       "      <td>2022-01-18</td>\n",
       "      <td>0.986105</td>\n",
       "    </tr>\n",
       "    <tr>\n",
       "      <th>2</th>\n",
       "      <td>2022-01-19</td>\n",
       "      <td>0.995368</td>\n",
       "    </tr>\n",
       "    <tr>\n",
       "      <th>3</th>\n",
       "      <td>2022-01-20</td>\n",
       "      <td>0.989810</td>\n",
       "    </tr>\n",
       "    <tr>\n",
       "      <th>4</th>\n",
       "      <td>2022-01-21</td>\n",
       "      <td>0.993979</td>\n",
       "    </tr>\n",
       "    <tr>\n",
       "      <th>...</th>\n",
       "      <td>...</td>\n",
       "      <td>...</td>\n",
       "    </tr>\n",
       "    <tr>\n",
       "      <th>710</th>\n",
       "      <td>2024-04-24</td>\n",
       "      <td>0.995368</td>\n",
       "    </tr>\n",
       "    <tr>\n",
       "      <th>711</th>\n",
       "      <td>2024-04-25</td>\n",
       "      <td>0.993979</td>\n",
       "    </tr>\n",
       "    <tr>\n",
       "      <th>712</th>\n",
       "      <td>2024-04-26</td>\n",
       "      <td>1.000000</td>\n",
       "    </tr>\n",
       "    <tr>\n",
       "      <th>713</th>\n",
       "      <td>2024-04-27</td>\n",
       "      <td>0.000000</td>\n",
       "    </tr>\n",
       "    <tr>\n",
       "      <th>714</th>\n",
       "      <td>2024-04-29</td>\n",
       "      <td>1.000000</td>\n",
       "    </tr>\n",
       "  </tbody>\n",
       "</table>\n",
       "<p>715 rows × 2 columns</p>\n",
       "</div>"
      ],
      "text/plain": [
       "    data_abreviada  Disponibilidade\n",
       "0       2022-01-17         0.997916\n",
       "1       2022-01-18         0.986105\n",
       "2       2022-01-19         0.995368\n",
       "3       2022-01-20         0.989810\n",
       "4       2022-01-21         0.993979\n",
       "..             ...              ...\n",
       "710     2024-04-24         0.995368\n",
       "711     2024-04-25         0.993979\n",
       "712     2024-04-26         1.000000\n",
       "713     2024-04-27         0.000000\n",
       "714     2024-04-29         1.000000\n",
       "\n",
       "[715 rows x 2 columns]"
      ]
     },
     "execution_count": 24,
     "metadata": {},
     "output_type": "execute_result"
    }
   ],
   "source": [
    "df_entrada['Disponibilidade'] = df_entrada['Disponibilidade'].fillna(0)\n",
    "df_entrada = df_entrada.groupby(['data_abreviada']).agg({'Disponibilidade': 'mean'})\n",
    "df_entrada = df_entrada.reset_index()\n",
    "df_entrada"
   ]
  },
  {
   "cell_type": "code",
   "execution_count": 25,
   "metadata": {},
   "outputs": [],
   "source": [
    "df_entrada.to_csv('dados_entrada.csv', index=False)"
   ]
  },
  {
   "cell_type": "markdown",
   "metadata": {},
   "source": [
    "# Estação de Transporte"
   ]
  },
  {
   "cell_type": "code",
   "execution_count": 26,
   "metadata": {},
   "outputs": [],
   "source": [
    "dados_transporte = gerar_dados(qtdGerada)\n",
    "df_transporte = dados_transporte.loc[:, ['Data', 'Status_Estacao']]\n",
    "df_transporte[\"data_abreviada\"] = df_transporte['Data'].dt.strftime('%Y-%m-%d')\n",
    "df_transporte[\"data_abreviada\"] =  pd.to_datetime(df_transporte[\"data_abreviada\"])\n",
    "\n",
    "\n",
    "df_transporte['Disponibilidade'] = ''\n",
    "anos = df_transporte['data_abreviada'].dt.year.unique()\n",
    "meses = df_transporte['data_abreviada'].dt.month.unique()\n",
    "dias = df_transporte['data_abreviada'].dt.day.unique()\n",
    "for ano in anos: \n",
    "    for mes in meses:\n",
    "        for dia in dias:\n",
    "            df_aux = df_transporte[(df_transporte['Data'].dt.year == ano) & (df_transporte['Data'].dt.month == mes) & (df_transporte['Data'].dt.day == dia)]\n",
    "            try:\n",
    "                df_transporte.loc[(df_transporte['Data'].dt.year == ano) & (df_transporte['Data'].dt.month == mes) \\\n",
    "                            & (df_transporte['Data'].dt.day == dia), \"Disponibilidade\"] = \\\n",
    "                                (df_aux.loc[df_aux['Status_Estacao'] == 1, 'Data'].max() - \\\n",
    "                                df_aux.loc[df_aux['Status_Estacao'] == 1,'Data'].min())/(df_aux.loc[:,'Data'].max() - \\\n",
    "                                                                                        df_aux.loc[:, 'Data'].min())\n",
    "            except ZeroDivisionError:\n",
    "                df_transporte.loc[(df_transporte['Data'].dt.year == ano) & (df_transporte['Data'].dt.month == mes) \\\n",
    "                            & (df_transporte['Data'].dt.day == dia), \"Disponibilidade\"] = 0"
   ]
  },
  {
   "cell_type": "code",
   "execution_count": 27,
   "metadata": {},
   "outputs": [
    {
     "name": "stderr",
     "output_type": "stream",
     "text": [
      "C:\\Users\\jhaid\\AppData\\Local\\Temp\\ipykernel_18604\\816845517.py:1: FutureWarning: Downcasting object dtype arrays on .fillna, .ffill, .bfill is deprecated and will change in a future version. Call result.infer_objects(copy=False) instead. To opt-in to the future behavior, set `pd.set_option('future.no_silent_downcasting', True)`\n",
      "  df_transporte['Disponibilidade'] = df_transporte['Disponibilidade'].fillna(0)\n"
     ]
    }
   ],
   "source": [
    "df_transporte['Disponibilidade'] = df_transporte['Disponibilidade'].fillna(0)\n",
    "df_transporte = df_transporte.groupby(['data_abreviada']).agg({'Disponibilidade': 'mean'})\n",
    "df_transporte = df_transporte.reset_index()\n",
    "\n",
    "df_transporte.to_csv('dados_transporte.csv', index=False)"
   ]
  },
  {
   "cell_type": "markdown",
   "metadata": {},
   "source": [
    "# Estação de Inspeção"
   ]
  },
  {
   "cell_type": "code",
   "execution_count": 28,
   "metadata": {},
   "outputs": [],
   "source": [
    "dados_inspecao = gerar_dados(qtdGerada)\n",
    "df_inspecao = dados_inspecao.loc[:, ['Data', 'Status_Estacao']]\n",
    "df_inspecao[\"data_abreviada\"] = df_inspecao['Data'].dt.strftime('%Y-%m-%d')\n",
    "df_inspecao[\"data_abreviada\"] =  pd.to_datetime(df_inspecao[\"data_abreviada\"])\n",
    "\n",
    "\n",
    "df_inspecao['Disponibilidade'] = ''\n",
    "anos = df_inspecao['data_abreviada'].dt.year.unique()\n",
    "meses = df_inspecao['data_abreviada'].dt.month.unique()\n",
    "dias = df_inspecao['data_abreviada'].dt.day.unique()\n",
    "for ano in anos: \n",
    "    for mes in meses:\n",
    "        for dia in dias:\n",
    "            df_aux = df_inspecao[(df_inspecao['Data'].dt.year == ano) & (df_inspecao['Data'].dt.month == mes) & (df_inspecao['Data'].dt.day == dia)]\n",
    "            try:\n",
    "                df_inspecao.loc[(df_inspecao['Data'].dt.year == ano) & (df_inspecao['Data'].dt.month == mes) \\\n",
    "                            & (df_inspecao['Data'].dt.day == dia), \"Disponibilidade\"] = \\\n",
    "                                (df_aux.loc[df_aux['Status_Estacao'] == 1, 'Data'].max() - \\\n",
    "                                df_aux.loc[df_aux['Status_Estacao'] == 1,'Data'].min())/(df_aux.loc[:,'Data'].max() - \\\n",
    "                                                                                        df_aux.loc[:, 'Data'].min())\n",
    "            except ZeroDivisionError:\n",
    "                df_inspecao.loc[(df_inspecao['Data'].dt.year == ano) & (df_inspecao['Data'].dt.month == mes) \\\n",
    "                            & (df_inspecao['Data'].dt.day == dia), \"Disponibilidade\"] = 0"
   ]
  },
  {
   "cell_type": "code",
   "execution_count": 29,
   "metadata": {},
   "outputs": [
    {
     "name": "stderr",
     "output_type": "stream",
     "text": [
      "C:\\Users\\jhaid\\AppData\\Local\\Temp\\ipykernel_18604\\4031482446.py:1: FutureWarning: Downcasting object dtype arrays on .fillna, .ffill, .bfill is deprecated and will change in a future version. Call result.infer_objects(copy=False) instead. To opt-in to the future behavior, set `pd.set_option('future.no_silent_downcasting', True)`\n",
      "  df_inspecao['Disponibilidade'] = df_inspecao['Disponibilidade'].fillna(0)\n"
     ]
    }
   ],
   "source": [
    "df_inspecao['Disponibilidade'] = df_inspecao['Disponibilidade'].fillna(0)\n",
    "df_inspecao = df_inspecao.groupby(['data_abreviada']).agg({'Disponibilidade': 'mean'})\n",
    "df_inspecao = df_inspecao.reset_index()\n",
    "\n",
    "df_inspecao.to_csv('dados_inspecao.csv', index=False)"
   ]
  },
  {
   "cell_type": "markdown",
   "metadata": {},
   "source": [
    "# Estação de Limpeza"
   ]
  },
  {
   "cell_type": "code",
   "execution_count": 30,
   "metadata": {},
   "outputs": [],
   "source": [
    "dados_limpeza = gerar_dados(qtdGerada)\n",
    "df_limpeza = dados_limpeza.loc[:, ['Data', 'Status_Estacao']]\n",
    "df_limpeza[\"data_abreviada\"] = df_limpeza['Data'].dt.strftime('%Y-%m-%d')\n",
    "df_limpeza[\"data_abreviada\"] =  pd.to_datetime(df_limpeza[\"data_abreviada\"])\n",
    "\n",
    "\n",
    "df_limpeza['Disponibilidade'] = ''\n",
    "anos = df_limpeza['data_abreviada'].dt.year.unique()\n",
    "meses = df_limpeza['data_abreviada'].dt.month.unique()\n",
    "dias = df_limpeza['data_abreviada'].dt.day.unique()\n",
    "for ano in anos: \n",
    "    for mes in meses:\n",
    "        for dia in dias:\n",
    "            df_aux = df_limpeza[(df_limpeza['Data'].dt.year == ano) & (df_limpeza['Data'].dt.month == mes) & (df_limpeza['Data'].dt.day == dia)]\n",
    "            try:\n",
    "                df_limpeza.loc[(df_limpeza['Data'].dt.year == ano) & (df_limpeza['Data'].dt.month == mes) \\\n",
    "                            & (df_limpeza['Data'].dt.day == dia), \"Disponibilidade\"] = \\\n",
    "                                (df_aux.loc[df_aux['Status_Estacao'] == 1, 'Data'].max() - \\\n",
    "                                df_aux.loc[df_aux['Status_Estacao'] == 1,'Data'].min())/(df_aux.loc[:,'Data'].max() - \\\n",
    "                                                                                        df_aux.loc[:, 'Data'].min())\n",
    "            except ZeroDivisionError:\n",
    "                df_limpeza.loc[(df_limpeza['Data'].dt.year == ano) & (df_limpeza['Data'].dt.month == mes) \\\n",
    "                            & (df_limpeza['Data'].dt.day == dia), \"Disponibilidade\"] = 0"
   ]
  },
  {
   "cell_type": "code",
   "execution_count": 31,
   "metadata": {},
   "outputs": [
    {
     "name": "stderr",
     "output_type": "stream",
     "text": [
      "C:\\Users\\jhaid\\AppData\\Local\\Temp\\ipykernel_18604\\4173822122.py:1: FutureWarning: Downcasting object dtype arrays on .fillna, .ffill, .bfill is deprecated and will change in a future version. Call result.infer_objects(copy=False) instead. To opt-in to the future behavior, set `pd.set_option('future.no_silent_downcasting', True)`\n",
      "  df_limpeza['Disponibilidade'] = df_limpeza['Disponibilidade'].fillna(0)\n"
     ]
    }
   ],
   "source": [
    "df_limpeza['Disponibilidade'] = df_limpeza['Disponibilidade'].fillna(0)\n",
    "df_limpeza = df_limpeza.groupby(['data_abreviada']).agg({'Disponibilidade': 'mean'})\n",
    "df_limpeza = df_limpeza.reset_index()\n",
    "\n",
    "df_limpeza.to_csv('dados_limpeza.csv', index=False)"
   ]
  }
 ],
 "metadata": {
  "kernelspec": {
   "display_name": "Python 3",
   "language": "python",
   "name": "python3"
  },
  "language_info": {
   "codemirror_mode": {
    "name": "ipython",
    "version": 3
   },
   "file_extension": ".py",
   "mimetype": "text/x-python",
   "name": "python",
   "nbconvert_exporter": "python",
   "pygments_lexer": "ipython3",
   "version": "3.12.1"
  }
 },
 "nbformat": 4,
 "nbformat_minor": 2
}
